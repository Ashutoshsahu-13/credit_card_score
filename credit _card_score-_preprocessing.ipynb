{
 "cells": [
  {
   "cell_type": "code",
   "execution_count": 1,
   "id": "5b5157d2",
   "metadata": {},
   "outputs": [
    {
     "name": "stderr",
     "output_type": "stream",
     "text": [
      "C:\\Users\\HP\\anaconda3\\lib\\site-packages\\scipy\\__init__.py:155: UserWarning: A NumPy version >=1.18.5 and <1.25.0 is required for this version of SciPy (detected version 1.26.4\n",
      "  warnings.warn(f\"A NumPy version >={np_minversion} and <{np_maxversion}\"\n"
     ]
    }
   ],
   "source": [
    "import pandas as pd\n",
    "import numpy as np\n",
    "import matplotlib.pyplot as plt\n",
    "import seaborn as sns"
   ]
  },
  {
   "cell_type": "code",
   "execution_count": 2,
   "id": "04423c04",
   "metadata": {},
   "outputs": [
    {
     "name": "stderr",
     "output_type": "stream",
     "text": [
      "C:\\Users\\HP\\AppData\\Local\\Temp\\ipykernel_20104\\616239795.py:1: DtypeWarning: Columns (26) have mixed types. Specify dtype option on import or set low_memory=False.\n",
      "  df=pd.read_csv('train.csv')\n"
     ]
    },
    {
     "data": {
      "text/html": [
       "<div>\n",
       "<style scoped>\n",
       "    .dataframe tbody tr th:only-of-type {\n",
       "        vertical-align: middle;\n",
       "    }\n",
       "\n",
       "    .dataframe tbody tr th {\n",
       "        vertical-align: top;\n",
       "    }\n",
       "\n",
       "    .dataframe thead th {\n",
       "        text-align: right;\n",
       "    }\n",
       "</style>\n",
       "<table border=\"1\" class=\"dataframe\">\n",
       "  <thead>\n",
       "    <tr style=\"text-align: right;\">\n",
       "      <th></th>\n",
       "      <th>ID</th>\n",
       "      <th>Customer_ID</th>\n",
       "      <th>Month</th>\n",
       "      <th>Name</th>\n",
       "      <th>Age</th>\n",
       "      <th>SSN</th>\n",
       "      <th>Occupation</th>\n",
       "      <th>Annual_Income</th>\n",
       "      <th>Monthly_Inhand_Salary</th>\n",
       "      <th>Num_Bank_Accounts</th>\n",
       "      <th>...</th>\n",
       "      <th>Credit_Mix</th>\n",
       "      <th>Outstanding_Debt</th>\n",
       "      <th>Credit_Utilization_Ratio</th>\n",
       "      <th>Credit_History_Age</th>\n",
       "      <th>Payment_of_Min_Amount</th>\n",
       "      <th>Total_EMI_per_month</th>\n",
       "      <th>Amount_invested_monthly</th>\n",
       "      <th>Payment_Behaviour</th>\n",
       "      <th>Monthly_Balance</th>\n",
       "      <th>Credit_Score</th>\n",
       "    </tr>\n",
       "  </thead>\n",
       "  <tbody>\n",
       "    <tr>\n",
       "      <th>0</th>\n",
       "      <td>0x1602</td>\n",
       "      <td>CUS_0xd40</td>\n",
       "      <td>January</td>\n",
       "      <td>Aaron Maashoh</td>\n",
       "      <td>23</td>\n",
       "      <td>821-00-0265</td>\n",
       "      <td>Scientist</td>\n",
       "      <td>19114.12</td>\n",
       "      <td>1824.843333</td>\n",
       "      <td>3</td>\n",
       "      <td>...</td>\n",
       "      <td>_</td>\n",
       "      <td>809.98</td>\n",
       "      <td>26.822620</td>\n",
       "      <td>22 Years and 1 Months</td>\n",
       "      <td>No</td>\n",
       "      <td>49.574949</td>\n",
       "      <td>80.41529543900253</td>\n",
       "      <td>High_spent_Small_value_payments</td>\n",
       "      <td>312.49408867943663</td>\n",
       "      <td>Good</td>\n",
       "    </tr>\n",
       "    <tr>\n",
       "      <th>1</th>\n",
       "      <td>0x1603</td>\n",
       "      <td>CUS_0xd40</td>\n",
       "      <td>February</td>\n",
       "      <td>Aaron Maashoh</td>\n",
       "      <td>23</td>\n",
       "      <td>821-00-0265</td>\n",
       "      <td>Scientist</td>\n",
       "      <td>19114.12</td>\n",
       "      <td>NaN</td>\n",
       "      <td>3</td>\n",
       "      <td>...</td>\n",
       "      <td>Good</td>\n",
       "      <td>809.98</td>\n",
       "      <td>31.944960</td>\n",
       "      <td>NaN</td>\n",
       "      <td>No</td>\n",
       "      <td>49.574949</td>\n",
       "      <td>118.28022162236736</td>\n",
       "      <td>Low_spent_Large_value_payments</td>\n",
       "      <td>284.62916249607184</td>\n",
       "      <td>Good</td>\n",
       "    </tr>\n",
       "    <tr>\n",
       "      <th>2</th>\n",
       "      <td>0x1604</td>\n",
       "      <td>CUS_0xd40</td>\n",
       "      <td>March</td>\n",
       "      <td>Aaron Maashoh</td>\n",
       "      <td>-500</td>\n",
       "      <td>821-00-0265</td>\n",
       "      <td>Scientist</td>\n",
       "      <td>19114.12</td>\n",
       "      <td>NaN</td>\n",
       "      <td>3</td>\n",
       "      <td>...</td>\n",
       "      <td>Good</td>\n",
       "      <td>809.98</td>\n",
       "      <td>28.609352</td>\n",
       "      <td>22 Years and 3 Months</td>\n",
       "      <td>No</td>\n",
       "      <td>49.574949</td>\n",
       "      <td>81.699521264648</td>\n",
       "      <td>Low_spent_Medium_value_payments</td>\n",
       "      <td>331.2098628537912</td>\n",
       "      <td>Good</td>\n",
       "    </tr>\n",
       "    <tr>\n",
       "      <th>3</th>\n",
       "      <td>0x1605</td>\n",
       "      <td>CUS_0xd40</td>\n",
       "      <td>April</td>\n",
       "      <td>Aaron Maashoh</td>\n",
       "      <td>23</td>\n",
       "      <td>821-00-0265</td>\n",
       "      <td>Scientist</td>\n",
       "      <td>19114.12</td>\n",
       "      <td>NaN</td>\n",
       "      <td>3</td>\n",
       "      <td>...</td>\n",
       "      <td>Good</td>\n",
       "      <td>809.98</td>\n",
       "      <td>31.377862</td>\n",
       "      <td>22 Years and 4 Months</td>\n",
       "      <td>No</td>\n",
       "      <td>49.574949</td>\n",
       "      <td>199.4580743910713</td>\n",
       "      <td>Low_spent_Small_value_payments</td>\n",
       "      <td>223.45130972736786</td>\n",
       "      <td>Good</td>\n",
       "    </tr>\n",
       "    <tr>\n",
       "      <th>4</th>\n",
       "      <td>0x1606</td>\n",
       "      <td>CUS_0xd40</td>\n",
       "      <td>May</td>\n",
       "      <td>Aaron Maashoh</td>\n",
       "      <td>23</td>\n",
       "      <td>821-00-0265</td>\n",
       "      <td>Scientist</td>\n",
       "      <td>19114.12</td>\n",
       "      <td>1824.843333</td>\n",
       "      <td>3</td>\n",
       "      <td>...</td>\n",
       "      <td>Good</td>\n",
       "      <td>809.98</td>\n",
       "      <td>24.797347</td>\n",
       "      <td>22 Years and 5 Months</td>\n",
       "      <td>No</td>\n",
       "      <td>49.574949</td>\n",
       "      <td>41.420153086217326</td>\n",
       "      <td>High_spent_Medium_value_payments</td>\n",
       "      <td>341.48923103222177</td>\n",
       "      <td>Good</td>\n",
       "    </tr>\n",
       "  </tbody>\n",
       "</table>\n",
       "<p>5 rows × 28 columns</p>\n",
       "</div>"
      ],
      "text/plain": [
       "       ID Customer_ID     Month           Name   Age          SSN Occupation  \\\n",
       "0  0x1602   CUS_0xd40   January  Aaron Maashoh    23  821-00-0265  Scientist   \n",
       "1  0x1603   CUS_0xd40  February  Aaron Maashoh    23  821-00-0265  Scientist   \n",
       "2  0x1604   CUS_0xd40     March  Aaron Maashoh  -500  821-00-0265  Scientist   \n",
       "3  0x1605   CUS_0xd40     April  Aaron Maashoh    23  821-00-0265  Scientist   \n",
       "4  0x1606   CUS_0xd40       May  Aaron Maashoh    23  821-00-0265  Scientist   \n",
       "\n",
       "  Annual_Income  Monthly_Inhand_Salary  Num_Bank_Accounts  ...  Credit_Mix  \\\n",
       "0      19114.12            1824.843333                  3  ...           _   \n",
       "1      19114.12                    NaN                  3  ...        Good   \n",
       "2      19114.12                    NaN                  3  ...        Good   \n",
       "3      19114.12                    NaN                  3  ...        Good   \n",
       "4      19114.12            1824.843333                  3  ...        Good   \n",
       "\n",
       "   Outstanding_Debt Credit_Utilization_Ratio     Credit_History_Age  \\\n",
       "0            809.98                26.822620  22 Years and 1 Months   \n",
       "1            809.98                31.944960                    NaN   \n",
       "2            809.98                28.609352  22 Years and 3 Months   \n",
       "3            809.98                31.377862  22 Years and 4 Months   \n",
       "4            809.98                24.797347  22 Years and 5 Months   \n",
       "\n",
       "   Payment_of_Min_Amount Total_EMI_per_month Amount_invested_monthly  \\\n",
       "0                     No           49.574949       80.41529543900253   \n",
       "1                     No           49.574949      118.28022162236736   \n",
       "2                     No           49.574949         81.699521264648   \n",
       "3                     No           49.574949       199.4580743910713   \n",
       "4                     No           49.574949      41.420153086217326   \n",
       "\n",
       "                  Payment_Behaviour     Monthly_Balance Credit_Score  \n",
       "0   High_spent_Small_value_payments  312.49408867943663         Good  \n",
       "1    Low_spent_Large_value_payments  284.62916249607184         Good  \n",
       "2   Low_spent_Medium_value_payments   331.2098628537912         Good  \n",
       "3    Low_spent_Small_value_payments  223.45130972736786         Good  \n",
       "4  High_spent_Medium_value_payments  341.48923103222177         Good  \n",
       "\n",
       "[5 rows x 28 columns]"
      ]
     },
     "execution_count": 2,
     "metadata": {},
     "output_type": "execute_result"
    }
   ],
   "source": [
    "df=pd.read_csv('train.csv')\n",
    "df.head()"
   ]
  },
  {
   "cell_type": "code",
   "execution_count": 3,
   "id": "ebebce4e",
   "metadata": {},
   "outputs": [
    {
     "data": {
      "text/plain": [
       "(100000, 28)"
      ]
     },
     "execution_count": 3,
     "metadata": {},
     "output_type": "execute_result"
    }
   ],
   "source": [
    "# checking the shape of the dataset\n",
    "df.shape"
   ]
  },
  {
   "cell_type": "code",
   "execution_count": 4,
   "id": "d2abf139",
   "metadata": {},
   "outputs": [
    {
     "name": "stdout",
     "output_type": "stream",
     "text": [
      "<class 'pandas.core.frame.DataFrame'>\n",
      "RangeIndex: 100000 entries, 0 to 99999\n",
      "Data columns (total 28 columns):\n",
      " #   Column                    Non-Null Count   Dtype  \n",
      "---  ------                    --------------   -----  \n",
      " 0   ID                        100000 non-null  object \n",
      " 1   Customer_ID               100000 non-null  object \n",
      " 2   Month                     100000 non-null  object \n",
      " 3   Name                      90015 non-null   object \n",
      " 4   Age                       100000 non-null  object \n",
      " 5   SSN                       100000 non-null  object \n",
      " 6   Occupation                100000 non-null  object \n",
      " 7   Annual_Income             100000 non-null  object \n",
      " 8   Monthly_Inhand_Salary     84998 non-null   float64\n",
      " 9   Num_Bank_Accounts         100000 non-null  int64  \n",
      " 10  Num_Credit_Card           100000 non-null  int64  \n",
      " 11  Interest_Rate             100000 non-null  int64  \n",
      " 12  Num_of_Loan               100000 non-null  object \n",
      " 13  Type_of_Loan              88592 non-null   object \n",
      " 14  Delay_from_due_date       100000 non-null  int64  \n",
      " 15  Num_of_Delayed_Payment    92998 non-null   object \n",
      " 16  Changed_Credit_Limit      100000 non-null  object \n",
      " 17  Num_Credit_Inquiries      98035 non-null   float64\n",
      " 18  Credit_Mix                100000 non-null  object \n",
      " 19  Outstanding_Debt          100000 non-null  object \n",
      " 20  Credit_Utilization_Ratio  100000 non-null  float64\n",
      " 21  Credit_History_Age        90970 non-null   object \n",
      " 22  Payment_of_Min_Amount     100000 non-null  object \n",
      " 23  Total_EMI_per_month       100000 non-null  float64\n",
      " 24  Amount_invested_monthly   95521 non-null   object \n",
      " 25  Payment_Behaviour         100000 non-null  object \n",
      " 26  Monthly_Balance           98800 non-null   object \n",
      " 27  Credit_Score              100000 non-null  object \n",
      "dtypes: float64(4), int64(4), object(20)\n",
      "memory usage: 21.4+ MB\n"
     ]
    }
   ],
   "source": [
    "df.info()"
   ]
  },
  {
   "cell_type": "code",
   "execution_count": 5,
   "id": "41fccb96",
   "metadata": {},
   "outputs": [
    {
     "data": {
      "text/plain": [
       "ID                              0\n",
       "Customer_ID                     0\n",
       "Month                           0\n",
       "Name                         9985\n",
       "Age                             0\n",
       "SSN                             0\n",
       "Occupation                      0\n",
       "Annual_Income                   0\n",
       "Monthly_Inhand_Salary       15002\n",
       "Num_Bank_Accounts               0\n",
       "Num_Credit_Card                 0\n",
       "Interest_Rate                   0\n",
       "Num_of_Loan                     0\n",
       "Type_of_Loan                11408\n",
       "Delay_from_due_date             0\n",
       "Num_of_Delayed_Payment       7002\n",
       "Changed_Credit_Limit            0\n",
       "Num_Credit_Inquiries         1965\n",
       "Credit_Mix                      0\n",
       "Outstanding_Debt                0\n",
       "Credit_Utilization_Ratio        0\n",
       "Credit_History_Age           9030\n",
       "Payment_of_Min_Amount           0\n",
       "Total_EMI_per_month             0\n",
       "Amount_invested_monthly      4479\n",
       "Payment_Behaviour               0\n",
       "Monthly_Balance              1200\n",
       "Credit_Score                    0\n",
       "dtype: int64"
      ]
     },
     "execution_count": 5,
     "metadata": {},
     "output_type": "execute_result"
    }
   ],
   "source": [
    "#checking the null value\n",
    "df.isnull().sum()"
   ]
  },
  {
   "cell_type": "code",
   "execution_count": 6,
   "id": "8890a346",
   "metadata": {
    "scrolled": true
   },
   "outputs": [
    {
     "data": {
      "text/plain": [
       "ID                          0.00000\n",
       "Customer_ID                 0.00000\n",
       "Month                       0.00000\n",
       "Name                        0.09985\n",
       "Age                         0.00000\n",
       "SSN                         0.00000\n",
       "Occupation                  0.00000\n",
       "Annual_Income               0.00000\n",
       "Monthly_Inhand_Salary       0.15002\n",
       "Num_Bank_Accounts           0.00000\n",
       "Num_Credit_Card             0.00000\n",
       "Interest_Rate               0.00000\n",
       "Num_of_Loan                 0.00000\n",
       "Type_of_Loan                0.11408\n",
       "Delay_from_due_date         0.00000\n",
       "Num_of_Delayed_Payment      0.07002\n",
       "Changed_Credit_Limit        0.00000\n",
       "Num_Credit_Inquiries        0.01965\n",
       "Credit_Mix                  0.00000\n",
       "Outstanding_Debt            0.00000\n",
       "Credit_Utilization_Ratio    0.00000\n",
       "Credit_History_Age          0.09030\n",
       "Payment_of_Min_Amount       0.00000\n",
       "Total_EMI_per_month         0.00000\n",
       "Amount_invested_monthly     0.04479\n",
       "Payment_Behaviour           0.00000\n",
       "Monthly_Balance             0.01200\n",
       "Credit_Score                0.00000\n",
       "dtype: float64"
      ]
     },
     "execution_count": 6,
     "metadata": {},
     "output_type": "execute_result"
    }
   ],
   "source": [
    "#checking the null value with percentage%\n",
    "df.isnull().mean()"
   ]
  },
  {
   "cell_type": "code",
   "execution_count": 7,
   "id": "b39be497",
   "metadata": {},
   "outputs": [],
   "source": [
    "col_underscore=[col for col in df.columns if any('_' in str(value) for value in df[col]) ]"
   ]
  },
  {
   "cell_type": "code",
   "execution_count": 8,
   "id": "25aada44",
   "metadata": {},
   "outputs": [
    {
     "data": {
      "text/plain": [
       "['Customer_ID',\n",
       " 'Age',\n",
       " 'Occupation',\n",
       " 'Annual_Income',\n",
       " 'Num_of_Loan',\n",
       " 'Num_of_Delayed_Payment',\n",
       " 'Changed_Credit_Limit',\n",
       " 'Credit_Mix',\n",
       " 'Outstanding_Debt',\n",
       " 'Amount_invested_monthly',\n",
       " 'Payment_Behaviour',\n",
       " 'Monthly_Balance']"
      ]
     },
     "execution_count": 8,
     "metadata": {},
     "output_type": "execute_result"
    }
   ],
   "source": [
    "col_underscore"
   ]
  },
  {
   "cell_type": "code",
   "execution_count": 9,
   "id": "3d50acd5",
   "metadata": {},
   "outputs": [],
   "source": [
    "def remove_underscore(col):\n",
    "    df[col]=df[col].apply(lambda x :str(x).replace('_','') if str(x) else x)\n",
    "    df[col] = pd.to_numeric(df[col], errors=\"coerce\")"
   ]
  },
  {
   "cell_type": "code",
   "execution_count": 10,
   "id": "218ca84e",
   "metadata": {},
   "outputs": [],
   "source": [
    "remove_underscore('Num_of_Delayed_Payment')\n",
    "remove_underscore('Changed_Credit_Limit')\n",
    "remove_underscore('Outstanding_Debt')\n",
    "remove_underscore('Amount_invested_monthly')\n",
    "remove_underscore('Monthly_Balance')\n"
   ]
  },
  {
   "cell_type": "code",
   "execution_count": 11,
   "id": "f3670682",
   "metadata": {},
   "outputs": [],
   "source": [
    "remove_underscore('Num_of_Loan')"
   ]
  },
  {
   "cell_type": "code",
   "execution_count": 12,
   "id": "0a7b6fe1",
   "metadata": {},
   "outputs": [],
   "source": [
    "remove_underscore('Annual_Income')"
   ]
  },
  {
   "cell_type": "code",
   "execution_count": 13,
   "id": "d58a195c",
   "metadata": {},
   "outputs": [
    {
     "data": {
      "text/plain": [
       "ID                          0.00000\n",
       "Customer_ID                 0.00000\n",
       "Month                       0.00000\n",
       "Name                        0.09985\n",
       "Age                         0.00000\n",
       "SSN                         0.00000\n",
       "Occupation                  0.00000\n",
       "Annual_Income               0.00000\n",
       "Monthly_Inhand_Salary       0.15002\n",
       "Num_Bank_Accounts           0.00000\n",
       "Num_Credit_Card             0.00000\n",
       "Interest_Rate               0.00000\n",
       "Num_of_Loan                 0.00000\n",
       "Type_of_Loan                0.11408\n",
       "Delay_from_due_date         0.00000\n",
       "Num_of_Delayed_Payment      0.07002\n",
       "Changed_Credit_Limit        0.02091\n",
       "Num_Credit_Inquiries        0.01965\n",
       "Credit_Mix                  0.00000\n",
       "Outstanding_Debt            0.00000\n",
       "Credit_Utilization_Ratio    0.00000\n",
       "Credit_History_Age          0.09030\n",
       "Payment_of_Min_Amount       0.00000\n",
       "Total_EMI_per_month         0.00000\n",
       "Amount_invested_monthly     0.04479\n",
       "Payment_Behaviour           0.00000\n",
       "Monthly_Balance             0.01200\n",
       "Credit_Score                0.00000\n",
       "dtype: float64"
      ]
     },
     "execution_count": 13,
     "metadata": {},
     "output_type": "execute_result"
    }
   ],
   "source": [
    "df.isnull().mean()"
   ]
  },
  {
   "cell_type": "markdown",
   "id": "6a4ce5eb",
   "metadata": {},
   "source": [
    "## Data Preprocessing"
   ]
  },
  {
   "cell_type": "markdown",
   "id": "476cd530",
   "metadata": {},
   "source": [
    "### Handling missing value"
   ]
  },
  {
   "cell_type": "code",
   "execution_count": 14,
   "id": "185b2c0d",
   "metadata": {},
   "outputs": [],
   "source": [
    "def impute(df,variable):\n",
    "    \n",
    "    df[variable+'_random']=df[variable]\n",
    "    random=df[variable].dropna().sample(df[variable].isnull().sum(),random_state=0)\n",
    "    ##pandas need to have same index in order to merge the dataset\n",
    "    random.index=df[df[variable].isnull()].index\n",
    "    df.loc[df[variable].isnull(),variable]=random"
   ]
  },
  {
   "cell_type": "code",
   "execution_count": 15,
   "id": "612d22a9",
   "metadata": {},
   "outputs": [],
   "source": [
    "impute(df,'Monthly_Inhand_Salary')"
   ]
  },
  {
   "cell_type": "code",
   "execution_count": 16,
   "id": "0c1d2fe4",
   "metadata": {},
   "outputs": [],
   "source": [
    "df['Type_of_Loan']=np.where(df['Type_of_Loan'].isnull(),'Missing',df['Type_of_Loan'])"
   ]
  },
  {
   "cell_type": "code",
   "execution_count": 17,
   "id": "f23e4f88",
   "metadata": {},
   "outputs": [],
   "source": [
    "impute(df,'Num_Credit_Inquiries')"
   ]
  },
  {
   "cell_type": "code",
   "execution_count": 18,
   "id": "48838739",
   "metadata": {},
   "outputs": [],
   "source": [
    "df['Num_of_Delayed_Payment']=df['Num_of_Delayed_Payment'].fillna(df['Num_of_Delayed_Payment'].median())"
   ]
  },
  {
   "cell_type": "code",
   "execution_count": 19,
   "id": "c0da7966",
   "metadata": {},
   "outputs": [],
   "source": [
    "df['Amount_invested_monthly']=df['Amount_invested_monthly'].fillna(df['Amount_invested_monthly'].median())"
   ]
  },
  {
   "cell_type": "code",
   "execution_count": 20,
   "id": "8e228e1d",
   "metadata": {},
   "outputs": [],
   "source": [
    "df['Monthly_Balance']=df['Monthly_Balance'].fillna(df['Monthly_Balance'].mean())"
   ]
  },
  {
   "cell_type": "code",
   "execution_count": 21,
   "id": "574e3b9d",
   "metadata": {},
   "outputs": [],
   "source": [
    "df['Credit_History_Age']=df['Credit_History_Age'].astype(str)"
   ]
  },
  {
   "cell_type": "code",
   "execution_count": 22,
   "id": "f04ea7c0",
   "metadata": {},
   "outputs": [],
   "source": [
    "df['Credit_History_Age']=df['Credit_History_Age'].fillna(0)"
   ]
  },
  {
   "cell_type": "code",
   "execution_count": 23,
   "id": "9c6af20a",
   "metadata": {},
   "outputs": [],
   "source": [
    "df['Credit_History_Age']=df['Credit_History_Age'].apply(lambda x : int(x.split()[0])*12 + int(x.split()[3]) if len(x.split())==5 else 0)"
   ]
  },
  {
   "cell_type": "code",
   "execution_count": 24,
   "id": "9ace47f4",
   "metadata": {},
   "outputs": [],
   "source": [
    "df['Credit_History_Age']=df['Credit_History_Age'].astype(int)"
   ]
  },
  {
   "cell_type": "code",
   "execution_count": 25,
   "id": "8cb54824",
   "metadata": {},
   "outputs": [],
   "source": [
    "df['Credit_History_Age']=df['Credit_History_Age'].replace(0,np.nan)"
   ]
  },
  {
   "cell_type": "code",
   "execution_count": 26,
   "id": "562fccde",
   "metadata": {},
   "outputs": [],
   "source": [
    "def impute1(df,variable):\n",
    "   \n",
    "    df[variable+'_random']=df[variable]\n",
    "    random=df[variable].dropna().sample(df[variable].isnull().sum(),random_state=0)\n",
    "    ##pandas need to have same index in order to merge the dataset\n",
    "    random.index=df[df[variable].isnull()].index\n",
    "    df.loc[df[variable].isnull(),variable]=random"
   ]
  },
  {
   "cell_type": "code",
   "execution_count": 27,
   "id": "f1bfe021",
   "metadata": {},
   "outputs": [],
   "source": [
    "impute1(df,'Credit_History_Age')"
   ]
  },
  {
   "cell_type": "code",
   "execution_count": 28,
   "id": "69a0e6d8",
   "metadata": {},
   "outputs": [],
   "source": [
    "df['Changed_Credit_Limit']=df['Changed_Credit_Limit'].fillna(df['Changed_Credit_Limit'].median())"
   ]
  },
  {
   "cell_type": "code",
   "execution_count": 29,
   "id": "76741805",
   "metadata": {},
   "outputs": [],
   "source": [
    "df['Payment_of_Min_Amount'].replace('NM','No',inplace=True)"
   ]
  },
  {
   "cell_type": "code",
   "execution_count": 30,
   "id": "5d0746a3",
   "metadata": {},
   "outputs": [
    {
     "data": {
      "text/plain": [
       "Yes    52326\n",
       "No     47674\n",
       "Name: Payment_of_Min_Amount, dtype: int64"
      ]
     },
     "execution_count": 30,
     "metadata": {},
     "output_type": "execute_result"
    }
   ],
   "source": [
    "df['Payment_of_Min_Amount'].value_counts()"
   ]
  },
  {
   "cell_type": "code",
   "execution_count": 31,
   "id": "f54fa757",
   "metadata": {},
   "outputs": [],
   "source": [
    "df['Payment_Behaviour'].replace('!@9#%8',np.nan,inplace=True)"
   ]
  },
  {
   "cell_type": "code",
   "execution_count": 32,
   "id": "285d4d5f",
   "metadata": {},
   "outputs": [],
   "source": [
    "df['Payment_Behaviour']=df['Payment_Behaviour'].fillna(df['Payment_Behaviour'].mode()[0])"
   ]
  },
  {
   "cell_type": "code",
   "execution_count": 33,
   "id": "9ac99571",
   "metadata": {},
   "outputs": [
    {
     "data": {
      "text/plain": [
       "0"
      ]
     },
     "execution_count": 33,
     "metadata": {},
     "output_type": "execute_result"
    }
   ],
   "source": [
    "df['Payment_Behaviour'].isnull().sum()"
   ]
  },
  {
   "cell_type": "code",
   "execution_count": 34,
   "id": "67bf8586",
   "metadata": {},
   "outputs": [
    {
     "data": {
      "text/plain": [
       "Standard    36479\n",
       "Good        24337\n",
       "_           20195\n",
       "Bad         18989\n",
       "Name: Credit_Mix, dtype: int64"
      ]
     },
     "execution_count": 34,
     "metadata": {},
     "output_type": "execute_result"
    }
   ],
   "source": [
    "df['Credit_Mix'].value_counts()"
   ]
  },
  {
   "cell_type": "code",
   "execution_count": 35,
   "id": "75f4fd9c",
   "metadata": {},
   "outputs": [],
   "source": [
    "df['Credit_Mix']=df['Credit_Mix'].replace('_','Missing')"
   ]
  },
  {
   "cell_type": "code",
   "execution_count": 36,
   "id": "0fda90e0",
   "metadata": {},
   "outputs": [
    {
     "data": {
      "text/plain": [
       "Standard    36479\n",
       "Good        24337\n",
       "Missing     20195\n",
       "Bad         18989\n",
       "Name: Credit_Mix, dtype: int64"
      ]
     },
     "execution_count": 36,
     "metadata": {},
     "output_type": "execute_result"
    }
   ],
   "source": [
    "df['Credit_Mix'].value_counts()"
   ]
  },
  {
   "cell_type": "code",
   "execution_count": 37,
   "id": "b8c30628",
   "metadata": {},
   "outputs": [],
   "source": [
    "df['Type_of_Loan']=df['Type_of_Loan'].astype(str)"
   ]
  },
  {
   "cell_type": "code",
   "execution_count": 38,
   "id": "3b52f55a",
   "metadata": {},
   "outputs": [],
   "source": [
    "df['Type_of_Loan']=df['Type_of_Loan'].str.split(',',n=1).str[0]"
   ]
  },
  {
   "cell_type": "code",
   "execution_count": 39,
   "id": "d4966e0b",
   "metadata": {},
   "outputs": [
    {
     "data": {
      "text/plain": [
       "0"
      ]
     },
     "execution_count": 39,
     "metadata": {},
     "output_type": "execute_result"
    }
   ],
   "source": [
    "df['Type_of_Loan'].isnull().sum()"
   ]
  },
  {
   "cell_type": "code",
   "execution_count": 40,
   "id": "330c0043",
   "metadata": {},
   "outputs": [
    {
     "data": {
      "text/plain": [
       "Missing                    11408\n",
       "Credit-Builder Loan        10416\n",
       "Payday Loan                10248\n",
       "Personal Loan              10200\n",
       "Not Specified               9848\n",
       "Student Loan                9672\n",
       "Debt Consolidation Loan     9648\n",
       "Mortgage Loan               9632\n",
       "Auto Loan                   9568\n",
       "Home Equity Loan            9360\n",
       "Name: Type_of_Loan, dtype: int64"
      ]
     },
     "execution_count": 40,
     "metadata": {},
     "output_type": "execute_result"
    }
   ],
   "source": [
    "df['Type_of_Loan'].value_counts()"
   ]
  },
  {
   "cell_type": "code",
   "execution_count": null,
   "id": "d1a14ac3",
   "metadata": {},
   "outputs": [],
   "source": [
    "Num_of_Loan\n",
    "Num_Bank_Accounts,\n",
    "Delay_from_due_date,\n",
    "Num_of_Delayed_Payment,\n",
    "Monthly_Balance have negative strange number\n",
    "Amount_invested_monthly have positive strange number\n",
    "Changed_Credit_Limit"
   ]
  },
  {
   "cell_type": "code",
   "execution_count": 41,
   "id": "b55f7a3d",
   "metadata": {},
   "outputs": [],
   "source": [
    "df.loc[df['Changed_Credit_Limit']<0, 'Changed_Credit_Limit'] = None"
   ]
  },
  {
   "cell_type": "code",
   "execution_count": 42,
   "id": "38722238",
   "metadata": {},
   "outputs": [],
   "source": [
    "df['Changed_Credit_Limit']=df['Changed_Credit_Limit'].fillna(df['Changed_Credit_Limit'].median())"
   ]
  },
  {
   "cell_type": "code",
   "execution_count": 43,
   "id": "79d0218a",
   "metadata": {},
   "outputs": [],
   "source": [
    "df['Num_of_Loan']=df['Num_of_Loan'].astype(float)"
   ]
  },
  {
   "cell_type": "code",
   "execution_count": 44,
   "id": "646f83af",
   "metadata": {},
   "outputs": [],
   "source": [
    "df.loc[df['Num_of_Loan']< 0, 'Num_of_Loan'] = None"
   ]
  },
  {
   "cell_type": "code",
   "execution_count": 45,
   "id": "260653cc",
   "metadata": {},
   "outputs": [],
   "source": [
    "df['Num_of_Loan']=df['Num_of_Loan'].fillna(df['Num_of_Loan'].median())"
   ]
  },
  {
   "cell_type": "code",
   "execution_count": 46,
   "id": "1e146e02",
   "metadata": {},
   "outputs": [],
   "source": [
    "df.loc[df['Num_of_Delayed_Payment']<0, 'Num_of_Delayed_Payment'] = None"
   ]
  },
  {
   "cell_type": "code",
   "execution_count": 47,
   "id": "4ce7c76a",
   "metadata": {},
   "outputs": [],
   "source": [
    "df['Num_of_Delayed_Payment']=df['Num_of_Delayed_Payment'].fillna(df['Num_of_Delayed_Payment'].median())"
   ]
  },
  {
   "cell_type": "code",
   "execution_count": 48,
   "id": "19b026b9",
   "metadata": {},
   "outputs": [],
   "source": [
    "df.loc[df['Delay_from_due_date']<0, 'Delay_from_due_date'] = None"
   ]
  },
  {
   "cell_type": "code",
   "execution_count": 49,
   "id": "89e92cf4",
   "metadata": {},
   "outputs": [],
   "source": [
    "df['Delay_from_due_date']=df['Delay_from_due_date'].fillna(df['Delay_from_due_date'].median())"
   ]
  },
  {
   "cell_type": "code",
   "execution_count": 50,
   "id": "79c9f49b",
   "metadata": {},
   "outputs": [],
   "source": [
    "df.loc[df['Monthly_Balance']<0, 'Monthly_Balance'] = None"
   ]
  },
  {
   "cell_type": "code",
   "execution_count": 51,
   "id": "7dfafeeb",
   "metadata": {},
   "outputs": [],
   "source": [
    "impute1(df,'Monthly_Balance')"
   ]
  },
  {
   "cell_type": "code",
   "execution_count": 52,
   "id": "81665cfb",
   "metadata": {},
   "outputs": [],
   "source": [
    "df.loc[df['Amount_invested_monthly']>=10000, 'Amount_invested_monthly'] = None"
   ]
  },
  {
   "cell_type": "code",
   "execution_count": 53,
   "id": "6a50bfd6",
   "metadata": {},
   "outputs": [],
   "source": [
    "df['Amount_invested_monthly']=df['Amount_invested_monthly'].fillna(df['Amount_invested_monthly'].median())"
   ]
  },
  {
   "cell_type": "markdown",
   "id": "24052e6c",
   "metadata": {},
   "source": [
    "### Handling outlier "
   ]
  },
  {
   "cell_type": "code",
   "execution_count": 54,
   "id": "82274b3b",
   "metadata": {},
   "outputs": [
    {
     "name": "stdout",
     "output_type": "stream",
     "text": [
      "<class 'pandas.core.frame.DataFrame'>\n",
      "RangeIndex: 100000 entries, 0 to 99999\n",
      "Data columns (total 32 columns):\n",
      " #   Column                        Non-Null Count   Dtype  \n",
      "---  ------                        --------------   -----  \n",
      " 0   ID                            100000 non-null  object \n",
      " 1   Customer_ID                   100000 non-null  object \n",
      " 2   Month                         100000 non-null  object \n",
      " 3   Name                          90015 non-null   object \n",
      " 4   Age                           100000 non-null  object \n",
      " 5   SSN                           100000 non-null  object \n",
      " 6   Occupation                    100000 non-null  object \n",
      " 7   Annual_Income                 100000 non-null  float64\n",
      " 8   Monthly_Inhand_Salary         100000 non-null  float64\n",
      " 9   Num_Bank_Accounts             100000 non-null  int64  \n",
      " 10  Num_Credit_Card               100000 non-null  int64  \n",
      " 11  Interest_Rate                 100000 non-null  int64  \n",
      " 12  Num_of_Loan                   100000 non-null  float64\n",
      " 13  Type_of_Loan                  100000 non-null  object \n",
      " 14  Delay_from_due_date           100000 non-null  float64\n",
      " 15  Num_of_Delayed_Payment        100000 non-null  float64\n",
      " 16  Changed_Credit_Limit          100000 non-null  float64\n",
      " 17  Num_Credit_Inquiries          100000 non-null  float64\n",
      " 18  Credit_Mix                    100000 non-null  object \n",
      " 19  Outstanding_Debt              100000 non-null  float64\n",
      " 20  Credit_Utilization_Ratio      100000 non-null  float64\n",
      " 21  Credit_History_Age            100000 non-null  float64\n",
      " 22  Payment_of_Min_Amount         100000 non-null  object \n",
      " 23  Total_EMI_per_month           100000 non-null  float64\n",
      " 24  Amount_invested_monthly       100000 non-null  float64\n",
      " 25  Payment_Behaviour             100000 non-null  object \n",
      " 26  Monthly_Balance               100000 non-null  float64\n",
      " 27  Credit_Score                  100000 non-null  object \n",
      " 28  Monthly_Inhand_Salary_random  84998 non-null   float64\n",
      " 29  Num_Credit_Inquiries_random   98035 non-null   float64\n",
      " 30  Credit_History_Age_random     90970 non-null   float64\n",
      " 31  Monthly_Balance_random        98791 non-null   float64\n",
      "dtypes: float64(17), int64(3), object(12)\n",
      "memory usage: 24.4+ MB\n"
     ]
    }
   ],
   "source": [
    "df.info()"
   ]
  },
  {
   "cell_type": "markdown",
   "id": "fbbbc802",
   "metadata": {},
   "source": [
    "## Annual_Income"
   ]
  },
  {
   "cell_type": "code",
   "execution_count": 61,
   "id": "7eec0b98",
   "metadata": {},
   "outputs": [
    {
     "data": {
      "text/plain": [
       "<AxesSubplot:xlabel='Annual_Income'>"
      ]
     },
     "execution_count": 61,
     "metadata": {},
     "output_type": "execute_result"
    },
    {
     "data": {
      "image/png": "[encoded data removed]",
      "text/plain": [
       "<Figure size 2000x500 with 1 Axes>"
      ]
     },
     "metadata": {},
     "output_type": "display_data"
    }
   ],
   "source": [
    "plt.figure(figsize=(20,5))\n",
    "sns.boxplot(df,x='Annual_Income')"
   ]
  },
  {
   "cell_type": "code",
   "execution_count": 62,
   "id": "3eb33e2c",
   "metadata": {},
   "outputs": [
    {
     "name": "stdout",
     "output_type": "stream",
     "text": [
      "-60542.630000000005\n",
      "152791.05\n"
     ]
    }
   ],
   "source": [
    "IQR=df['Annual_Income'].quantile(0.75)-df['Annual_Income'].quantile(0.25)\n",
    "upper_bridge=df['Annual_Income'].quantile(0.75)+(IQR*1.5)\n",
    "lower_bridge=df['Annual_Income'].quantile(0.25)-(IQR*1.5)\n",
    "print(lower_bridge)\n",
    "print(upper_bridge)"
   ]
  },
  {
   "cell_type": "code",
   "execution_count": 63,
   "id": "dff10aed",
   "metadata": {},
   "outputs": [],
   "source": [
    "df.loc[df['Annual_Income']>152791,'Annual_Income']=152791"
   ]
  },
  {
   "cell_type": "code",
   "execution_count": 64,
   "id": "32a2cae0",
   "metadata": {},
   "outputs": [
    {
     "data": {
      "text/plain": [
       "<AxesSubplot:xlabel='Annual_Income'>"
      ]
     },
     "execution_count": 64,
     "metadata": {},
     "output_type": "execute_result"
    },
    {
     "data": {
      "image/png": "[encoded data removed]",
      "text/plain": [
       "<Figure size 640x480 with 1 Axes>"
      ]
     },
     "metadata": {},
     "output_type": "display_data"
    }
   ],
   "source": [
    "sns.boxplot(df,x='Annual_Income')"
   ]
  },
  {
   "cell_type": "markdown",
   "id": "8a04af48",
   "metadata": {},
   "source": [
    "## Monthly_Inhand_Salary"
   ]
  },
  {
   "cell_type": "code",
   "execution_count": 65,
   "id": "4022dd64",
   "metadata": {},
   "outputs": [
    {
     "data": {
      "text/plain": [
       "<AxesSubplot:xlabel='Monthly_Inhand_Salary'>"
      ]
     },
     "execution_count": 65,
     "metadata": {},
     "output_type": "execute_result"
    },
    {
     "data": {
      "image/png": "[encoded data removed]",
      "text/plain": [
       "<Figure size 640x480 with 1 Axes>"
      ]
     },
     "metadata": {},
     "output_type": "display_data"
    }
   ],
   "source": [
    "sns.boxplot(df,x='Monthly_Inhand_Salary')"
   ]
  },
  {
   "cell_type": "code",
   "execution_count": 66,
   "id": "c5f379de",
   "metadata": {},
   "outputs": [
    {
     "name": "stdout",
     "output_type": "stream",
     "text": [
      "-4887.835416666666\n",
      "12480.434583333332\n"
     ]
    }
   ],
   "source": [
    "IQR=df['Monthly_Inhand_Salary'].quantile(0.75)-df['Monthly_Inhand_Salary'].quantile(0.25)\n",
    "upper_bridge=df['Monthly_Inhand_Salary'].quantile(0.75)+(IQR*1.5)\n",
    "lower_bridge=df['Monthly_Inhand_Salary'].quantile(0.25)-(IQR*1.5)\n",
    "print(lower_bridge)\n",
    "print(upper_bridge)"
   ]
  },
  {
   "cell_type": "code",
   "execution_count": 67,
   "id": "3d933705",
   "metadata": {},
   "outputs": [],
   "source": [
    "df.loc[df['Monthly_Inhand_Salary']>12480,'Monthly_Inhand_Salary']=12480"
   ]
  },
  {
   "cell_type": "code",
   "execution_count": 68,
   "id": "89330045",
   "metadata": {},
   "outputs": [
    {
     "data": {
      "text/plain": [
       "<AxesSubplot:xlabel='Monthly_Inhand_Salary'>"
      ]
     },
     "execution_count": 68,
     "metadata": {},
     "output_type": "execute_result"
    },
    {
     "data": {
      "image/png": "[encoded data removed]",
      "text/plain": [
       "<Figure size 640x480 with 1 Axes>"
      ]
     },
     "metadata": {},
     "output_type": "display_data"
    }
   ],
   "source": [
    "sns.boxplot(df,x='Monthly_Inhand_Salary')"
   ]
  },
  {
   "cell_type": "markdown",
   "id": "86cbb858",
   "metadata": {},
   "source": [
    "## NUM_bank_accounts"
   ]
  },
  {
   "cell_type": "code",
   "execution_count": 84,
   "id": "4233b0a6",
   "metadata": {},
   "outputs": [
    {
     "data": {
      "text/plain": [
       "<AxesSubplot:xlabel='Num_Bank_Accounts'>"
      ]
     },
     "execution_count": 84,
     "metadata": {},
     "output_type": "execute_result"
    },
    {
     "data": {
      "image/png": "[encoded data removed]",
      "text/plain": [
       "<Figure size 640x480 with 1 Axes>"
      ]
     },
     "metadata": {},
     "output_type": "display_data"
    }
   ],
   "source": [
    "sns.boxplot(df,x='Num_Bank_Accounts')"
   ]
  },
  {
   "cell_type": "code",
   "execution_count": 69,
   "id": "8a0248f8",
   "metadata": {},
   "outputs": [
    {
     "name": "stdout",
     "output_type": "stream",
     "text": [
      "-3.0\n",
      "13.0\n"
     ]
    }
   ],
   "source": [
    "IQR=df['Num_Bank_Accounts'].quantile(0.75)-df['Num_Bank_Accounts'].quantile(0.25)\n",
    "upper_bridge=df['Num_Bank_Accounts'].quantile(0.75)+(IQR*1.5)\n",
    "lower_bridge=df['Num_Bank_Accounts'].quantile(0.25)-(IQR*1.5)\n",
    "print(lower_bridge)\n",
    "print(upper_bridge)"
   ]
  },
  {
   "cell_type": "code",
   "execution_count": 70,
   "id": "50817009",
   "metadata": {},
   "outputs": [],
   "source": [
    "df.loc[df['Num_Bank_Accounts']>13,'Num_Bank_Accounts']=13"
   ]
  },
  {
   "cell_type": "code",
   "execution_count": 126,
   "id": "652f4814",
   "metadata": {},
   "outputs": [],
   "source": [
    "df.loc[df['Num_Bank_Accounts']<0,'Num_Bank_Accounts']=0"
   ]
  },
  {
   "cell_type": "code",
   "execution_count": 127,
   "id": "6cb716cc",
   "metadata": {},
   "outputs": [
    {
     "data": {
      "text/plain": [
       "<AxesSubplot:xlabel='Num_Bank_Accounts'>"
      ]
     },
     "execution_count": 127,
     "metadata": {},
     "output_type": "execute_result"
    },
    {
     "data": {
      "image/png": "[encoded data removed]",
      "text/plain": [
       "<Figure size 640x480 with 1 Axes>"
      ]
     },
     "metadata": {},
     "output_type": "display_data"
    }
   ],
   "source": [
    "sns.boxplot(df,x='Num_Bank_Accounts')"
   ]
  },
  {
   "cell_type": "markdown",
   "id": "5555e7bb",
   "metadata": {},
   "source": [
    "## Num_Credit_Card"
   ]
  },
  {
   "cell_type": "code",
   "execution_count": 90,
   "id": "d3c48f24",
   "metadata": {},
   "outputs": [
    {
     "data": {
      "text/plain": [
       "<AxesSubplot:xlabel='Num_Credit_Card'>"
      ]
     },
     "execution_count": 90,
     "metadata": {},
     "output_type": "execute_result"
    },
    {
     "data": {
      "image/png": "[encoded data removed]",
      "text/plain": [
       "<Figure size 640x480 with 1 Axes>"
      ]
     },
     "metadata": {},
     "output_type": "display_data"
    }
   ],
   "source": [
    "sns.boxplot(df,x='Num_Credit_Card')"
   ]
  },
  {
   "cell_type": "code",
   "execution_count": 71,
   "id": "fa424c02",
   "metadata": {},
   "outputs": [
    {
     "name": "stdout",
     "output_type": "stream",
     "text": [
      "-0.5\n",
      "11.5\n"
     ]
    }
   ],
   "source": [
    "IQR=df['Num_Credit_Card'].quantile(0.75)-df['Num_Credit_Card'].quantile(0.25)\n",
    "upper_bridge=df['Num_Credit_Card'].quantile(0.75)+(IQR*1.5)\n",
    "lower_bridge=df['Num_Credit_Card'].quantile(0.25)-(IQR*1.5)\n",
    "print(lower_bridge)\n",
    "print(upper_bridge)"
   ]
  },
  {
   "cell_type": "code",
   "execution_count": 72,
   "id": "ff52b787",
   "metadata": {},
   "outputs": [],
   "source": [
    "df.loc[df['Num_Credit_Card']>11.5,'Num_Credit_Card']=11.5"
   ]
  },
  {
   "cell_type": "code",
   "execution_count": 93,
   "id": "febd7c9e",
   "metadata": {},
   "outputs": [
    {
     "data": {
      "text/plain": [
       "<AxesSubplot:xlabel='Num_Credit_Card'>"
      ]
     },
     "execution_count": 93,
     "metadata": {},
     "output_type": "execute_result"
    },
    {
     "data": {
      "image/png": "[encoded data removed]",
      "text/plain": [
       "<Figure size 640x480 with 1 Axes>"
      ]
     },
     "metadata": {},
     "output_type": "display_data"
    }
   ],
   "source": [
    "sns.boxplot(df,x='Num_Credit_Card')"
   ]
  },
  {
   "cell_type": "markdown",
   "id": "7603ae5a",
   "metadata": {},
   "source": [
    "## Interest_Rate"
   ]
  },
  {
   "cell_type": "code",
   "execution_count": 95,
   "id": "55008049",
   "metadata": {},
   "outputs": [
    {
     "data": {
      "text/plain": [
       "<AxesSubplot:xlabel='Interest_Rate'>"
      ]
     },
     "execution_count": 95,
     "metadata": {},
     "output_type": "execute_result"
    },
    {
     "data": {
      "image/png": "[encoded data removed]",
      "text/plain": [
       "<Figure size 640x480 with 1 Axes>"
      ]
     },
     "metadata": {},
     "output_type": "display_data"
    }
   ],
   "source": [
    "sns.boxplot(df,x='Interest_Rate')"
   ]
  },
  {
   "cell_type": "code",
   "execution_count": 73,
   "id": "909fa6b4",
   "metadata": {},
   "outputs": [
    {
     "name": "stdout",
     "output_type": "stream",
     "text": [
      "-16.0\n",
      "44.0\n"
     ]
    }
   ],
   "source": [
    "IQR=df['Interest_Rate'].quantile(0.75)-df['Num_Credit_Card'].quantile(0.25)\n",
    "upper_bridge=df['Interest_Rate'].quantile(0.75)+(IQR*1.5)\n",
    "lower_bridge=df['Interest_Rate'].quantile(0.25)-(IQR*1.5)\n",
    "print(lower_bridge)\n",
    "print(upper_bridge)"
   ]
  },
  {
   "cell_type": "code",
   "execution_count": 74,
   "id": "ca9ce864",
   "metadata": {},
   "outputs": [],
   "source": [
    "df.loc[df['Interest_Rate']>44,'Interest_Rate']=44"
   ]
  },
  {
   "cell_type": "code",
   "execution_count": 98,
   "id": "5542df7f",
   "metadata": {},
   "outputs": [
    {
     "data": {
      "text/plain": [
       "<AxesSubplot:xlabel='Interest_Rate'>"
      ]
     },
     "execution_count": 98,
     "metadata": {},
     "output_type": "execute_result"
    },
    {
     "data": {
      "image/png": "[encoded data removed]",
      "text/plain": [
       "<Figure size 640x480 with 1 Axes>"
      ]
     },
     "metadata": {},
     "output_type": "display_data"
    }
   ],
   "source": [
    "sns.boxplot(df,x='Interest_Rate')"
   ]
  },
  {
   "cell_type": "markdown",
   "id": "669908f6",
   "metadata": {},
   "source": [
    "## Num_of_Loan"
   ]
  },
  {
   "cell_type": "code",
   "execution_count": 99,
   "id": "fbb6989a",
   "metadata": {},
   "outputs": [
    {
     "data": {
      "text/plain": [
       "<AxesSubplot:xlabel='Num_of_Loan'>"
      ]
     },
     "execution_count": 99,
     "metadata": {},
     "output_type": "execute_result"
    },
    {
     "data": {
      "image/png": "[encoded data removed]",
      "text/plain": [
       "<Figure size 640x480 with 1 Axes>"
      ]
     },
     "metadata": {},
     "output_type": "display_data"
    }
   ],
   "source": [
    "sns.boxplot(df,x='Num_of_Loan')"
   ]
  },
  {
   "cell_type": "code",
   "execution_count": 75,
   "id": "e13b4bdf",
   "metadata": {},
   "outputs": [
    {
     "name": "stdout",
     "output_type": "stream",
     "text": [
      "-2.5\n",
      "9.5\n"
     ]
    }
   ],
   "source": [
    "IQR=df['Num_of_Loan'].quantile(0.75)-df['Num_of_Loan'].quantile(0.25)\n",
    "upper_bridge=df['Num_of_Loan'].quantile(0.75)+(IQR*1.5)\n",
    "lower_bridge=df['Num_of_Loan'].quantile(0.25)-(IQR*1.5)\n",
    "print(lower_bridge)\n",
    "print(upper_bridge)"
   ]
  },
  {
   "cell_type": "code",
   "execution_count": 76,
   "id": "673886de",
   "metadata": {},
   "outputs": [],
   "source": [
    "df.loc[df['Num_of_Loan']>9.5,'Num_of_Loan']=9.5"
   ]
  },
  {
   "cell_type": "code",
   "execution_count": 103,
   "id": "abbbfbbb",
   "metadata": {},
   "outputs": [
    {
     "data": {
      "text/plain": [
       "<AxesSubplot:xlabel='Num_of_Loan'>"
      ]
     },
     "execution_count": 103,
     "metadata": {},
     "output_type": "execute_result"
    },
    {
     "data": {
      "image/png": "[encoded data removed]",
      "text/plain": [
       "<Figure size 640x480 with 1 Axes>"
      ]
     },
     "metadata": {},
     "output_type": "display_data"
    }
   ],
   "source": [
    "sns.boxplot(df,x='Num_of_Loan')"
   ]
  },
  {
   "cell_type": "markdown",
   "id": "32d00d22",
   "metadata": {},
   "source": [
    " ## Delay_from_due_date"
   ]
  },
  {
   "cell_type": "code",
   "execution_count": 104,
   "id": "0d29d157",
   "metadata": {},
   "outputs": [
    {
     "data": {
      "text/plain": [
       "<AxesSubplot:xlabel='Delay_from_due_date'>"
      ]
     },
     "execution_count": 104,
     "metadata": {},
     "output_type": "execute_result"
    },
    {
     "data": {
      "image/png": "[encoded data removed]",
      "text/plain": [
       "<Figure size 640x480 with 1 Axes>"
      ]
     },
     "metadata": {},
     "output_type": "display_data"
    }
   ],
   "source": [
    "sns.boxplot(df,x='Delay_from_due_date')"
   ]
  },
  {
   "cell_type": "code",
   "execution_count": 77,
   "id": "fbdf8936",
   "metadata": {},
   "outputs": [
    {
     "name": "stdout",
     "output_type": "stream",
     "text": [
      "-17.0\n",
      "55.0\n"
     ]
    }
   ],
   "source": [
    "IQR=df['Delay_from_due_date'].quantile(0.75)-df['Delay_from_due_date'].quantile(0.25)\n",
    "upper_bridge=df['Delay_from_due_date'].quantile(0.75)+(IQR*1.5)\n",
    "lower_bridge=df['Delay_from_due_date'].quantile(0.25)-(IQR*1.5)\n",
    "print(lower_bridge)\n",
    "print(upper_bridge)"
   ]
  },
  {
   "cell_type": "code",
   "execution_count": 78,
   "id": "80f76a03",
   "metadata": {},
   "outputs": [],
   "source": [
    "df.loc[df['Delay_from_due_date']>55,'Delay_from_due_date']=55"
   ]
  },
  {
   "cell_type": "code",
   "execution_count": 107,
   "id": "17f03de5",
   "metadata": {},
   "outputs": [
    {
     "data": {
      "text/plain": [
       "<AxesSubplot:xlabel='Delay_from_due_date'>"
      ]
     },
     "execution_count": 107,
     "metadata": {},
     "output_type": "execute_result"
    },
    {
     "data": {
      "image/png": "[encoded data removed]",
      "text/plain": [
       "<Figure size 640x480 with 1 Axes>"
      ]
     },
     "metadata": {},
     "output_type": "display_data"
    }
   ],
   "source": [
    "sns.boxplot(df,x='Delay_from_due_date')"
   ]
  },
  {
   "cell_type": "markdown",
   "id": "b18eef93",
   "metadata": {},
   "source": [
    "## Num_of_Delayed_Payment "
   ]
  },
  {
   "cell_type": "code",
   "execution_count": 108,
   "id": "b3630a87",
   "metadata": {},
   "outputs": [
    {
     "data": {
      "text/plain": [
       "<AxesSubplot:xlabel='Num_of_Delayed_Payment'>"
      ]
     },
     "execution_count": 108,
     "metadata": {},
     "output_type": "execute_result"
    },
    {
     "data": {
      "image/png": "[encoded data removed]",
      "text/plain": [
       "<Figure size 640x480 with 1 Axes>"
      ]
     },
     "metadata": {},
     "output_type": "display_data"
    }
   ],
   "source": [
    "sns.boxplot(df,x='Num_of_Delayed_Payment')"
   ]
  },
  {
   "cell_type": "code",
   "execution_count": 79,
   "id": "76811c7b",
   "metadata": {},
   "outputs": [
    {
     "name": "stdout",
     "output_type": "stream",
     "text": [
      "-4.5\n",
      "31.5\n"
     ]
    }
   ],
   "source": [
    "IQR=df['Num_of_Delayed_Payment'].quantile(0.75)-df['Num_of_Delayed_Payment'].quantile(0.25)\n",
    "upper_bridge=df['Num_of_Delayed_Payment'].quantile(0.75)+(IQR*1.5)\n",
    "lower_bridge=df['Num_of_Delayed_Payment'].quantile(0.25)-(IQR*1.5)\n",
    "print(lower_bridge)\n",
    "print(upper_bridge)"
   ]
  },
  {
   "cell_type": "code",
   "execution_count": 80,
   "id": "8995ec0d",
   "metadata": {},
   "outputs": [],
   "source": [
    "df.loc[df['Num_of_Delayed_Payment']>31.5,'Num_of_Delayed_Payment']=31.5"
   ]
  },
  {
   "cell_type": "code",
   "execution_count": 114,
   "id": "aa53935f",
   "metadata": {},
   "outputs": [
    {
     "data": {
      "text/plain": [
       "<AxesSubplot:xlabel='Num_of_Delayed_Payment'>"
      ]
     },
     "execution_count": 114,
     "metadata": {},
     "output_type": "execute_result"
    },
    {
     "data": {
      "image/png": "[encoded data removed]",
      "text/plain": [
       "<Figure size 640x480 with 1 Axes>"
      ]
     },
     "metadata": {},
     "output_type": "display_data"
    }
   ],
   "source": [
    "sns.boxplot(df,x='Num_of_Delayed_Payment')"
   ]
  },
  {
   "cell_type": "markdown",
   "id": "f355cf98",
   "metadata": {},
   "source": [
    "## Changed_Credit_Limit"
   ]
  },
  {
   "cell_type": "code",
   "execution_count": 115,
   "id": "5d464632",
   "metadata": {},
   "outputs": [
    {
     "data": {
      "text/plain": [
       "<AxesSubplot:xlabel='Changed_Credit_Limit'>"
      ]
     },
     "execution_count": 115,
     "metadata": {},
     "output_type": "execute_result"
    },
    {
     "data": {
      "image/png": "[encoded data removed]",
      "text/plain": [
       "<Figure size 640x480 with 1 Axes>"
      ]
     },
     "metadata": {},
     "output_type": "display_data"
    }
   ],
   "source": [
    "sns.boxplot(df,x='Changed_Credit_Limit')"
   ]
  },
  {
   "cell_type": "code",
   "execution_count": 81,
   "id": "0d016b32",
   "metadata": {},
   "outputs": [
    {
     "name": "stdout",
     "output_type": "stream",
     "text": [
      "-7.590000000000002\n",
      "28.01\n"
     ]
    }
   ],
   "source": [
    "IQR=df['Changed_Credit_Limit'].quantile(0.75)-df['Changed_Credit_Limit'].quantile(0.25)\n",
    "upper_bridge=df['Changed_Credit_Limit'].quantile(0.75)+(IQR*1.5)\n",
    "lower_bridge=df['Changed_Credit_Limit'].quantile(0.25)-(IQR*1.5)\n",
    "print(lower_bridge)\n",
    "print(upper_bridge)"
   ]
  },
  {
   "cell_type": "code",
   "execution_count": 82,
   "id": "e2264a5b",
   "metadata": {},
   "outputs": [],
   "source": [
    "df.loc[df['Changed_Credit_Limit']>28,'Changed_Credit_Limit']=28"
   ]
  },
  {
   "cell_type": "code",
   "execution_count": 118,
   "id": "93c275d0",
   "metadata": {},
   "outputs": [
    {
     "data": {
      "text/plain": [
       "<AxesSubplot:xlabel='Changed_Credit_Limit'>"
      ]
     },
     "execution_count": 118,
     "metadata": {},
     "output_type": "execute_result"
    },
    {
     "data": {
      "image/png": "[encoded data removed]",
      "text/plain": [
       "<Figure size 640x480 with 1 Axes>"
      ]
     },
     "metadata": {},
     "output_type": "display_data"
    }
   ],
   "source": [
    "sns.boxplot(df,x='Changed_Credit_Limit')"
   ]
  },
  {
   "cell_type": "markdown",
   "id": "bc48e7d7",
   "metadata": {},
   "source": [
    "## Num_Credit_Inquiries"
   ]
  },
  {
   "cell_type": "code",
   "execution_count": 119,
   "id": "5ff94591",
   "metadata": {},
   "outputs": [
    {
     "data": {
      "text/plain": [
       "<AxesSubplot:xlabel='Num_Credit_Inquiries'>"
      ]
     },
     "execution_count": 119,
     "metadata": {},
     "output_type": "execute_result"
    },
    {
     "data": {
      "image/png": "[encoded data removed]",
      "text/plain": [
       "<Figure size 640x480 with 1 Axes>"
      ]
     },
     "metadata": {},
     "output_type": "display_data"
    }
   ],
   "source": [
    "sns.boxplot(df,x='Num_Credit_Inquiries')"
   ]
  },
  {
   "cell_type": "code",
   "execution_count": 83,
   "id": "08151484",
   "metadata": {},
   "outputs": [
    {
     "name": "stdout",
     "output_type": "stream",
     "text": [
      "-6.0\n",
      "18.0\n"
     ]
    }
   ],
   "source": [
    "IQR=df['Num_Credit_Inquiries'].quantile(0.75)-df['Num_Credit_Inquiries'].quantile(0.25)\n",
    "upper_bridge=df['Num_Credit_Inquiries'].quantile(0.75)+(IQR*1.5)\n",
    "lower_bridge=df['Num_Credit_Inquiries'].quantile(0.25)-(IQR*1.5)\n",
    "print(lower_bridge)\n",
    "print(upper_bridge)"
   ]
  },
  {
   "cell_type": "code",
   "execution_count": 84,
   "id": "306b9ba3",
   "metadata": {},
   "outputs": [],
   "source": [
    "df.loc[df['Num_Credit_Inquiries']>18,'Num_Credit_Inquiries']=18"
   ]
  },
  {
   "cell_type": "code",
   "execution_count": 122,
   "id": "fa1a5f1d",
   "metadata": {},
   "outputs": [
    {
     "data": {
      "text/plain": [
       "<AxesSubplot:xlabel='Num_Credit_Inquiries'>"
      ]
     },
     "execution_count": 122,
     "metadata": {},
     "output_type": "execute_result"
    },
    {
     "data": {
      "image/png": "[encoded data removed]",
      "text/plain": [
       "<Figure size 640x480 with 1 Axes>"
      ]
     },
     "metadata": {},
     "output_type": "display_data"
    }
   ],
   "source": [
    "sns.boxplot(df,x='Num_Credit_Inquiries')"
   ]
  },
  {
   "cell_type": "markdown",
   "id": "bfe6d6f8",
   "metadata": {},
   "source": [
    "## Outstanding_Debt            "
   ]
  },
  {
   "cell_type": "code",
   "execution_count": 123,
   "id": "3cb29b54",
   "metadata": {},
   "outputs": [
    {
     "data": {
      "text/plain": [
       "<AxesSubplot:xlabel='Outstanding_Debt'>"
      ]
     },
     "execution_count": 123,
     "metadata": {},
     "output_type": "execute_result"
    },
    {
     "data": {
      "image/png": "[encoded data removed]",
      "text/plain": [
       "<Figure size 640x480 with 1 Axes>"
      ]
     },
     "metadata": {},
     "output_type": "display_data"
    }
   ],
   "source": [
    "sns.boxplot(df,x='Outstanding_Debt')"
   ]
  },
  {
   "cell_type": "code",
   "execution_count": 85,
   "id": "29b9d421",
   "metadata": {},
   "outputs": [
    {
     "name": "stdout",
     "output_type": "stream",
     "text": [
      "-1503.7625\n",
      "4015.7975\n"
     ]
    }
   ],
   "source": [
    "IQR=df['Outstanding_Debt'].quantile(0.75)-df['Outstanding_Debt'].quantile(0.25)\n",
    "upper_bridge=df['Outstanding_Debt'].quantile(0.75)+(IQR*1.5)\n",
    "lower_bridge=df['Outstanding_Debt'].quantile(0.25)-(IQR*1.5)\n",
    "print(lower_bridge)\n",
    "print(upper_bridge)"
   ]
  },
  {
   "cell_type": "code",
   "execution_count": 86,
   "id": "cc7b62b2",
   "metadata": {},
   "outputs": [],
   "source": [
    "df.loc[df['Outstanding_Debt']>4015,'Outstanding_Debt']=4015"
   ]
  },
  {
   "cell_type": "code",
   "execution_count": 126,
   "id": "705a7dee",
   "metadata": {},
   "outputs": [
    {
     "data": {
      "text/plain": [
       "<AxesSubplot:xlabel='Outstanding_Debt'>"
      ]
     },
     "execution_count": 126,
     "metadata": {},
     "output_type": "execute_result"
    },
    {
     "data": {
      "image/png": "[encoded data removed]",
      "text/plain": [
       "<Figure size 640x480 with 1 Axes>"
      ]
     },
     "metadata": {},
     "output_type": "display_data"
    }
   ],
   "source": [
    "sns.boxplot(df,x='Outstanding_Debt')"
   ]
  },
  {
   "cell_type": "markdown",
   "id": "d5360492",
   "metadata": {},
   "source": [
    "## Credit_Utilization_Ratio  "
   ]
  },
  {
   "cell_type": "code",
   "execution_count": 127,
   "id": "26538c74",
   "metadata": {},
   "outputs": [
    {
     "data": {
      "text/plain": [
       "<AxesSubplot:xlabel='Credit_Utilization_Ratio'>"
      ]
     },
     "execution_count": 127,
     "metadata": {},
     "output_type": "execute_result"
    },
    {
     "data": {
      "image/png": "[encoded data removed]",
      "text/plain": [
       "<Figure size 640x480 with 1 Axes>"
      ]
     },
     "metadata": {},
     "output_type": "display_data"
    }
   ],
   "source": [
    "sns.boxplot(df,x='Credit_Utilization_Ratio')"
   ]
  },
  {
   "cell_type": "code",
   "execution_count": 87,
   "id": "834000cb",
   "metadata": {},
   "outputs": [
    {
     "name": "stdout",
     "output_type": "stream",
     "text": [
      "15.38642181919627\n",
      "49.1628077980216\n"
     ]
    }
   ],
   "source": [
    "IQR=df['Credit_Utilization_Ratio'].quantile(0.75)-df['Credit_Utilization_Ratio'].quantile(0.25)\n",
    "upper_bridge=df['Credit_Utilization_Ratio'].quantile(0.75)+(IQR*1.5)\n",
    "lower_bridge=df['Credit_Utilization_Ratio'].quantile(0.25)-(IQR*1.5)\n",
    "print(lower_bridge)\n",
    "print(upper_bridge)"
   ]
  },
  {
   "cell_type": "code",
   "execution_count": 88,
   "id": "359b47f2",
   "metadata": {},
   "outputs": [],
   "source": [
    "df.loc[df['Credit_Utilization_Ratio']>49,'Credit_Utilization_Ratio']=49"
   ]
  },
  {
   "cell_type": "code",
   "execution_count": 130,
   "id": "3f330733",
   "metadata": {},
   "outputs": [
    {
     "data": {
      "text/plain": [
       "<AxesSubplot:xlabel='Credit_Utilization_Ratio'>"
      ]
     },
     "execution_count": 130,
     "metadata": {},
     "output_type": "execute_result"
    },
    {
     "data": {
      "image/png": "[encoded data removed]",
      "text/plain": [
       "<Figure size 640x480 with 1 Axes>"
      ]
     },
     "metadata": {},
     "output_type": "display_data"
    }
   ],
   "source": [
    "sns.boxplot(df,x='Credit_Utilization_Ratio')"
   ]
  },
  {
   "cell_type": "markdown",
   "id": "d3c9f2fc",
   "metadata": {},
   "source": [
    "## Credit_History_Age "
   ]
  },
  {
   "cell_type": "code",
   "execution_count": 132,
   "id": "a2eb5b26",
   "metadata": {},
   "outputs": [
    {
     "data": {
      "text/plain": [
       "<AxesSubplot:xlabel='Credit_History_Age'>"
      ]
     },
     "execution_count": 132,
     "metadata": {},
     "output_type": "execute_result"
    },
    {
     "data": {
      "image/png": "[encoded data removed]",
      "text/plain": [
       "<Figure size 640x480 with 1 Axes>"
      ]
     },
     "metadata": {},
     "output_type": "display_data"
    }
   ],
   "source": [
    "sns.boxplot(df,x='Credit_History_Age')"
   ]
  },
  {
   "cell_type": "markdown",
   "id": "f59a509d",
   "metadata": {},
   "source": [
    "## Total_EMI_per_month"
   ]
  },
  {
   "cell_type": "code",
   "execution_count": 133,
   "id": "14167353",
   "metadata": {},
   "outputs": [
    {
     "data": {
      "text/plain": [
       "<AxesSubplot:xlabel='Total_EMI_per_month'>"
      ]
     },
     "execution_count": 133,
     "metadata": {},
     "output_type": "execute_result"
    },
    {
     "data": {
      "image/png": "[encoded data removed]",
      "text/plain": [
       "<Figure size 640x480 with 1 Axes>"
      ]
     },
     "metadata": {},
     "output_type": "display_data"
    }
   ],
   "source": [
    "sns.boxplot(df,x='Total_EMI_per_month')"
   ]
  },
  {
   "cell_type": "code",
   "execution_count": 89,
   "id": "3c75f2c9",
   "metadata": {},
   "outputs": [
    {
     "name": "stdout",
     "output_type": "stream",
     "text": [
      "-166.06972242783047\n",
      "357.60063203221614\n"
     ]
    }
   ],
   "source": [
    "IQR=df['Total_EMI_per_month'].quantile(0.75)-df['Total_EMI_per_month'].quantile(0.25)\n",
    "upper_bridge=df['Total_EMI_per_month'].quantile(0.75)+(IQR*1.5)\n",
    "lower_bridge=df['Total_EMI_per_month'].quantile(0.25)-(IQR*1.5)\n",
    "print(lower_bridge)\n",
    "print(upper_bridge)"
   ]
  },
  {
   "cell_type": "code",
   "execution_count": 90,
   "id": "b7704f43",
   "metadata": {},
   "outputs": [],
   "source": [
    "df.loc[df['Total_EMI_per_month']>357,'Total_EMI_per_month']=357"
   ]
  },
  {
   "cell_type": "code",
   "execution_count": 137,
   "id": "71a36ca8",
   "metadata": {},
   "outputs": [
    {
     "data": {
      "text/plain": [
       "<AxesSubplot:xlabel='Total_EMI_per_month'>"
      ]
     },
     "execution_count": 137,
     "metadata": {},
     "output_type": "execute_result"
    },
    {
     "data": {
      "image/png": "[encoded data removed]",
      "text/plain": [
       "<Figure size 640x480 with 1 Axes>"
      ]
     },
     "metadata": {},
     "output_type": "display_data"
    }
   ],
   "source": [
    "sns.boxplot(df,x='Total_EMI_per_month')"
   ]
  },
  {
   "cell_type": "markdown",
   "id": "447c070d",
   "metadata": {},
   "source": [
    "## Amount_invested_monthly"
   ]
  },
  {
   "cell_type": "code",
   "execution_count": 138,
   "id": "f672caff",
   "metadata": {},
   "outputs": [
    {
     "data": {
      "text/plain": [
       "<AxesSubplot:xlabel='Amount_invested_monthly'>"
      ]
     },
     "execution_count": 138,
     "metadata": {},
     "output_type": "execute_result"
    },
    {
     "data": {
      "image/png": "[encoded data removed]",
      "text/plain": [
       "<Figure size 640x480 with 1 Axes>"
      ]
     },
     "metadata": {},
     "output_type": "display_data"
    }
   ],
   "source": [
    "sns.boxplot(df,x='Amount_invested_monthly')"
   ]
  },
  {
   "cell_type": "code",
   "execution_count": 91,
   "id": "2ff45ab7",
   "metadata": {},
   "outputs": [
    {
     "name": "stdout",
     "output_type": "stream",
     "text": [
      "-137.51504845670908\n",
      "434.5715177012439\n"
     ]
    }
   ],
   "source": [
    "IQR=df['Amount_invested_monthly'].quantile(0.75)-df['Amount_invested_monthly'].quantile(0.25)\n",
    "upper_bridge=df['Amount_invested_monthly'].quantile(0.75)+(IQR*1.5)\n",
    "lower_bridge=df['Amount_invested_monthly'].quantile(0.25)-(IQR*1.5)\n",
    "print(lower_bridge)\n",
    "print(upper_bridge)"
   ]
  },
  {
   "cell_type": "code",
   "execution_count": 92,
   "id": "1dcf9140",
   "metadata": {},
   "outputs": [],
   "source": [
    "df.loc[df['Amount_invested_monthly']>434,'Amount_invested_monthly']=434"
   ]
  },
  {
   "cell_type": "code",
   "execution_count": 141,
   "id": "40ddbeee",
   "metadata": {},
   "outputs": [
    {
     "data": {
      "text/plain": [
       "<AxesSubplot:xlabel='Amount_invested_monthly'>"
      ]
     },
     "execution_count": 141,
     "metadata": {},
     "output_type": "execute_result"
    },
    {
     "data": {
      "image/png": "[encoded data removed]",
      "text/plain": [
       "<Figure size 640x480 with 1 Axes>"
      ]
     },
     "metadata": {},
     "output_type": "display_data"
    }
   ],
   "source": [
    "sns.boxplot(df,x='Amount_invested_monthly')"
   ]
  },
  {
   "cell_type": "markdown",
   "id": "9f694a7e",
   "metadata": {},
   "source": [
    "## Monthly_Balance"
   ]
  },
  {
   "cell_type": "code",
   "execution_count": 142,
   "id": "75e9a58b",
   "metadata": {},
   "outputs": [
    {
     "data": {
      "text/plain": [
       "<AxesSubplot:xlabel='Monthly_Balance'>"
      ]
     },
     "execution_count": 142,
     "metadata": {},
     "output_type": "execute_result"
    },
    {
     "data": {
      "image/png": "[encoded data removed]",
      "text/plain": [
       "<Figure size 640x480 with 1 Axes>"
      ]
     },
     "metadata": {},
     "output_type": "display_data"
    }
   ],
   "source": [
    "sns.boxplot(df,x='Monthly_Balance')"
   ]
  },
  {
   "cell_type": "code",
   "execution_count": 93,
   "id": "fc5e98d0",
   "metadata": {},
   "outputs": [
    {
     "name": "stdout",
     "output_type": "stream",
     "text": [
      "-29.762068847475405\n",
      "769.7651930247612\n"
     ]
    }
   ],
   "source": [
    "IQR=df['Monthly_Balance'].quantile(0.75)-df['Monthly_Balance'].quantile(0.25)\n",
    "upper_bridge=df['Monthly_Balance'].quantile(0.75)+(IQR*1.5)\n",
    "lower_bridge=df['Monthly_Balance'].quantile(0.25)-(IQR*1.5)\n",
    "print(lower_bridge)\n",
    "print(upper_bridge)"
   ]
  },
  {
   "cell_type": "code",
   "execution_count": 94,
   "id": "2b055758",
   "metadata": {},
   "outputs": [],
   "source": [
    "df.loc[df['Monthly_Balance']>769,'Monthly_Balance']=769"
   ]
  },
  {
   "cell_type": "code",
   "execution_count": 145,
   "id": "155b1332",
   "metadata": {},
   "outputs": [
    {
     "data": {
      "text/plain": [
       "<AxesSubplot:xlabel='Monthly_Balance'>"
      ]
     },
     "execution_count": 145,
     "metadata": {},
     "output_type": "execute_result"
    },
    {
     "data": {
      "image/png": "[encoded data removed]",
      "text/plain": [
       "<Figure size 640x480 with 1 Axes>"
      ]
     },
     "metadata": {},
     "output_type": "display_data"
    }
   ],
   "source": [
    "sns.boxplot(df,x='Monthly_Balance')"
   ]
  },
  {
   "cell_type": "markdown",
   "id": "570dd3a1",
   "metadata": {},
   "source": [
    "## Changing the Categorical feature into Numerical feature"
   ]
  },
  {
   "cell_type": "code",
   "execution_count": 95,
   "id": "5459952c",
   "metadata": {},
   "outputs": [
    {
     "data": {
      "text/plain": [
       "Missing                    11408\n",
       "Credit-Builder Loan        10416\n",
       "Payday Loan                10248\n",
       "Personal Loan              10200\n",
       "Not Specified               9848\n",
       "Student Loan                9672\n",
       "Debt Consolidation Loan     9648\n",
       "Mortgage Loan               9632\n",
       "Auto Loan                   9568\n",
       "Home Equity Loan            9360\n",
       "Name: Type_of_Loan, dtype: int64"
      ]
     },
     "execution_count": 95,
     "metadata": {},
     "output_type": "execute_result"
    }
   ],
   "source": [
    "df['Type_of_Loan'].value_counts()"
   ]
  },
  {
   "cell_type": "code",
   "execution_count": 96,
   "id": "1fa89a12",
   "metadata": {},
   "outputs": [],
   "source": [
    "df['Type_of_Loan']=df['Type_of_Loan'].map({'Missing':0,'Credit-Builder Loan':1,'Payday Loan':2,'Personal Loan':3,\n",
    "                                          'Not Specified':4,'Student Loan':5,'Debt Consolidation Loan':6,'Mortgage Loan':7,\n",
    "                                          'Auto Loan':8,'Home Equity Loan':9 })"
   ]
  },
  {
   "cell_type": "code",
   "execution_count": 97,
   "id": "28c25995",
   "metadata": {},
   "outputs": [
    {
     "data": {
      "text/plain": [
       "Standard    36479\n",
       "Good        24337\n",
       "Missing     20195\n",
       "Bad         18989\n",
       "Name: Credit_Mix, dtype: int64"
      ]
     },
     "execution_count": 97,
     "metadata": {},
     "output_type": "execute_result"
    }
   ],
   "source": [
    "df['Credit_Mix'].value_counts()"
   ]
  },
  {
   "cell_type": "code",
   "execution_count": 98,
   "id": "dc07e63a",
   "metadata": {},
   "outputs": [],
   "source": [
    "df['Credit_Mix']=df['Credit_Mix'].map({'Missing':0,'Bad':1,'Good':2,'Standard':3})"
   ]
  },
  {
   "cell_type": "code",
   "execution_count": 99,
   "id": "f54cadea",
   "metadata": {},
   "outputs": [
    {
     "data": {
      "text/plain": [
       "Yes    52326\n",
       "No     47674\n",
       "Name: Payment_of_Min_Amount, dtype: int64"
      ]
     },
     "execution_count": 99,
     "metadata": {},
     "output_type": "execute_result"
    }
   ],
   "source": [
    "df['Payment_of_Min_Amount'].value_counts()"
   ]
  },
  {
   "cell_type": "code",
   "execution_count": 100,
   "id": "30a195b5",
   "metadata": {},
   "outputs": [],
   "source": [
    "df['Payment_of_Min_Amount']=df['Payment_of_Min_Amount'].map({'No':0,'Yes':1})"
   ]
  },
  {
   "cell_type": "code",
   "execution_count": 101,
   "id": "cf43f4c7",
   "metadata": {},
   "outputs": [
    {
     "data": {
      "text/plain": [
       "Low_spent_Small_value_payments      33113\n",
       "High_spent_Medium_value_payments    17540\n",
       "Low_spent_Medium_value_payments     13861\n",
       "High_spent_Large_value_payments     13721\n",
       "High_spent_Small_value_payments     11340\n",
       "Low_spent_Large_value_payments      10425\n",
       "Name: Payment_Behaviour, dtype: int64"
      ]
     },
     "execution_count": 101,
     "metadata": {},
     "output_type": "execute_result"
    }
   ],
   "source": [
    "df['Payment_Behaviour'].value_counts()"
   ]
  },
  {
   "cell_type": "code",
   "execution_count": 102,
   "id": "e1a3b570",
   "metadata": {},
   "outputs": [],
   "source": [
    "df['Payment_Behaviour']=df['Payment_Behaviour'].map({'Low_spent_Small_value_payments':1,'Low_spent_Medium_value_payments':2,\n",
    "                                                    'Low_spent_Large_value_payments':3,'High_spent_Small_value_payments':4,\n",
    "                                                    'High_spent_Medium_value_payments':5,'High_spent_Large_value_payments':6})"
   ]
  },
  {
   "cell_type": "code",
   "execution_count": 103,
   "id": "8bec738b",
   "metadata": {},
   "outputs": [
    {
     "data": {
      "text/plain": [
       "array(['Good', 'Standard', 'Poor'], dtype=object)"
      ]
     },
     "execution_count": 103,
     "metadata": {},
     "output_type": "execute_result"
    }
   ],
   "source": [
    "df['Credit_Score'].unique()"
   ]
  },
  {
   "cell_type": "code",
   "execution_count": 104,
   "id": "efa794b9",
   "metadata": {},
   "outputs": [],
   "source": [
    "df['Credit_Score']=df['Credit_Score'].map({'Poor':0,'Good':1,'Standard':2})"
   ]
  },
  {
   "cell_type": "code",
   "execution_count": 139,
   "id": "1d777496",
   "metadata": {},
   "outputs": [],
   "source": [
    "df.to_csv('credit_card_score.csv',index=False)"
   ]
  },
  {
   "cell_type": "code",
   "execution_count": 106,
   "id": "d326f812",
   "metadata": {},
   "outputs": [
    {
     "name": "stdout",
     "output_type": "stream",
     "text": [
      "<class 'pandas.core.frame.DataFrame'>\n",
      "RangeIndex: 100000 entries, 0 to 99999\n",
      "Data columns (total 28 columns):\n",
      " #   Column                    Non-Null Count   Dtype  \n",
      "---  ------                    --------------   -----  \n",
      " 0   ID                        100000 non-null  object \n",
      " 1   Customer_ID               100000 non-null  object \n",
      " 2   Month                     100000 non-null  object \n",
      " 3   Name                      90015 non-null   object \n",
      " 4   Age                       100000 non-null  object \n",
      " 5   SSN                       100000 non-null  object \n",
      " 6   Occupation                100000 non-null  object \n",
      " 7   Annual_Income             100000 non-null  float64\n",
      " 8   Monthly_Inhand_Salary     100000 non-null  float64\n",
      " 9   Num_Bank_Accounts         100000 non-null  int64  \n",
      " 10  Num_Credit_Card           100000 non-null  float64\n",
      " 11  Interest_Rate             100000 non-null  int64  \n",
      " 12  Num_of_Loan               100000 non-null  float64\n",
      " 13  Type_of_Loan              100000 non-null  int64  \n",
      " 14  Delay_from_due_date       100000 non-null  float64\n",
      " 15  Num_of_Delayed_Payment    100000 non-null  float64\n",
      " 16  Changed_Credit_Limit      100000 non-null  float64\n",
      " 17  Num_Credit_Inquiries      100000 non-null  float64\n",
      " 18  Credit_Mix                100000 non-null  int64  \n",
      " 19  Outstanding_Debt          100000 non-null  float64\n",
      " 20  Credit_Utilization_Ratio  100000 non-null  float64\n",
      " 21  Credit_History_Age        100000 non-null  float64\n",
      " 22  Payment_of_Min_Amount     100000 non-null  int64  \n",
      " 23  Total_EMI_per_month       100000 non-null  float64\n",
      " 24  Amount_invested_monthly   100000 non-null  float64\n",
      " 25  Payment_Behaviour         100000 non-null  int64  \n",
      " 26  Monthly_Balance           100000 non-null  float64\n",
      " 27  Credit_Score              100000 non-null  int64  \n",
      "dtypes: float64(14), int64(7), object(7)\n",
      "memory usage: 21.4+ MB\n"
     ]
    }
   ],
   "source": [
    "df.info()"
   ]
  },
  {
   "cell_type": "markdown",
   "id": "b638372a",
   "metadata": {},
   "source": [
    "## Feature selection"
   ]
  },
  {
   "cell_type": "code",
   "execution_count": 107,
   "id": "25249829",
   "metadata": {},
   "outputs": [
    {
     "data": {
      "text/plain": [
       "Index(['ID', 'Customer_ID', 'Month', 'Name', 'Age', 'SSN', 'Occupation',\n",
       "       'Annual_Income', 'Monthly_Inhand_Salary', 'Num_Bank_Accounts',\n",
       "       'Num_Credit_Card', 'Interest_Rate', 'Num_of_Loan', 'Type_of_Loan',\n",
       "       'Delay_from_due_date', 'Num_of_Delayed_Payment', 'Changed_Credit_Limit',\n",
       "       'Num_Credit_Inquiries', 'Credit_Mix', 'Outstanding_Debt',\n",
       "       'Credit_Utilization_Ratio', 'Credit_History_Age',\n",
       "       'Payment_of_Min_Amount', 'Total_EMI_per_month',\n",
       "       'Amount_invested_monthly', 'Payment_Behaviour', 'Monthly_Balance',\n",
       "       'Credit_Score'],\n",
       "      dtype='object')"
      ]
     },
     "execution_count": 107,
     "metadata": {},
     "output_type": "execute_result"
    }
   ],
   "source": [
    "df.columns"
   ]
  },
  {
   "cell_type": "code",
   "execution_count": 128,
   "id": "8dcd1902",
   "metadata": {},
   "outputs": [],
   "source": [
    "X=df[['Annual_Income','Monthly_Inhand_Salary','Num_Bank_Accounts',\n",
    "       'Num_Credit_Card','Interest_Rate', 'Num_of_Loan','Type_of_Loan',\n",
    "       'Delay_from_due_date','Num_of_Delayed_Payment','Changed_Credit_Limit',\n",
    "       'Num_Credit_Inquiries','Credit_Mix','Outstanding_Debt',\n",
    "       'Credit_Utilization_Ratio','Credit_History_Age',\n",
    "       'Payment_of_Min_Amount','Total_EMI_per_month',\n",
    "       'Amount_invested_monthly','Payment_Behaviour','Monthly_Balance',]]"
   ]
  },
  {
   "cell_type": "code",
   "execution_count": 129,
   "id": "96a5f395",
   "metadata": {},
   "outputs": [],
   "source": [
    "Y=df[['Credit_Score']]"
   ]
  },
  {
   "cell_type": "code",
   "execution_count": 130,
   "id": "4c527bf0",
   "metadata": {},
   "outputs": [],
   "source": [
    "from sklearn.feature_selection import SelectKBest\n",
    "from sklearn.feature_selection import chi2"
   ]
  },
  {
   "cell_type": "code",
   "execution_count": 131,
   "id": "99e86ceb",
   "metadata": {},
   "outputs": [],
   "source": [
    "ordered_rank_feature=SelectKBest(score_func=chi2,k=20)\n",
    "featue=ordered_rank_feature.fit(X,Y)"
   ]
  },
  {
   "cell_type": "code",
   "execution_count": 132,
   "id": "0fc3a0e2",
   "metadata": {},
   "outputs": [],
   "source": [
    "df1=pd.DataFrame(featue.scores_,columns=['score'])\n",
    "df2=pd.DataFrame(X.columns)"
   ]
  },
  {
   "cell_type": "code",
   "execution_count": 133,
   "id": "71d9f2b6",
   "metadata": {},
   "outputs": [],
   "source": [
    "feature_rank=pd.concat([df2,df1],axis=1)\n",
    "feature_rank.columns=['feature','score']"
   ]
  },
  {
   "cell_type": "code",
   "execution_count": 136,
   "id": "f50a922b",
   "metadata": {},
   "outputs": [
    {
     "data": {
      "text/html": [
       "<div>\n",
       "<style scoped>\n",
       "    .dataframe tbody tr th:only-of-type {\n",
       "        vertical-align: middle;\n",
       "    }\n",
       "\n",
       "    .dataframe tbody tr th {\n",
       "        vertical-align: top;\n",
       "    }\n",
       "\n",
       "    .dataframe thead th {\n",
       "        text-align: right;\n",
       "    }\n",
       "</style>\n",
       "<table border=\"1\" class=\"dataframe\">\n",
       "  <thead>\n",
       "    <tr style=\"text-align: right;\">\n",
       "      <th></th>\n",
       "      <th>feature</th>\n",
       "      <th>score</th>\n",
       "    </tr>\n",
       "  </thead>\n",
       "  <tbody>\n",
       "    <tr>\n",
       "      <th>0</th>\n",
       "      <td>Annual_Income</td>\n",
       "      <td>1.235340e+08</td>\n",
       "    </tr>\n",
       "    <tr>\n",
       "      <th>12</th>\n",
       "      <td>Outstanding_Debt</td>\n",
       "      <td>1.387395e+07</td>\n",
       "    </tr>\n",
       "    <tr>\n",
       "      <th>1</th>\n",
       "      <td>Monthly_Inhand_Salary</td>\n",
       "      <td>7.284386e+06</td>\n",
       "    </tr>\n",
       "    <tr>\n",
       "      <th>14</th>\n",
       "      <td>Credit_History_Age</td>\n",
       "      <td>5.579887e+05</td>\n",
       "    </tr>\n",
       "    <tr>\n",
       "      <th>19</th>\n",
       "      <td>Monthly_Balance</td>\n",
       "      <td>3.522240e+05</td>\n",
       "    </tr>\n",
       "    <tr>\n",
       "      <th>7</th>\n",
       "      <td>Delay_from_due_date</td>\n",
       "      <td>1.816984e+05</td>\n",
       "    </tr>\n",
       "    <tr>\n",
       "      <th>17</th>\n",
       "      <td>Amount_invested_monthly</td>\n",
       "      <td>1.514549e+05</td>\n",
       "    </tr>\n",
       "    <tr>\n",
       "      <th>4</th>\n",
       "      <td>Interest_Rate</td>\n",
       "      <td>1.128792e+05</td>\n",
       "    </tr>\n",
       "    <tr>\n",
       "      <th>10</th>\n",
       "      <td>Num_Credit_Inquiries</td>\n",
       "      <td>4.441064e+04</td>\n",
       "    </tr>\n",
       "    <tr>\n",
       "      <th>8</th>\n",
       "      <td>Num_of_Delayed_Payment</td>\n",
       "      <td>3.460908e+04</td>\n",
       "    </tr>\n",
       "    <tr>\n",
       "      <th>16</th>\n",
       "      <td>Total_EMI_per_month</td>\n",
       "      <td>2.656589e+04</td>\n",
       "    </tr>\n",
       "    <tr>\n",
       "      <th>5</th>\n",
       "      <td>Num_of_Loan</td>\n",
       "      <td>1.977538e+04</td>\n",
       "    </tr>\n",
       "    <tr>\n",
       "      <th>9</th>\n",
       "      <td>Changed_Credit_Limit</td>\n",
       "      <td>1.960354e+04</td>\n",
       "    </tr>\n",
       "    <tr>\n",
       "      <th>2</th>\n",
       "      <td>Num_Bank_Accounts</td>\n",
       "      <td>1.888614e+04</td>\n",
       "    </tr>\n",
       "    <tr>\n",
       "      <th>3</th>\n",
       "      <td>Num_Credit_Card</td>\n",
       "      <td>1.172486e+04</td>\n",
       "    </tr>\n",
       "    <tr>\n",
       "      <th>15</th>\n",
       "      <td>Payment_of_Min_Amount</td>\n",
       "      <td>8.042585e+03</td>\n",
       "    </tr>\n",
       "    <tr>\n",
       "      <th>11</th>\n",
       "      <td>Credit_Mix</td>\n",
       "      <td>2.592105e+03</td>\n",
       "    </tr>\n",
       "    <tr>\n",
       "      <th>6</th>\n",
       "      <td>Type_of_Loan</td>\n",
       "      <td>1.381851e+03</td>\n",
       "    </tr>\n",
       "    <tr>\n",
       "      <th>18</th>\n",
       "      <td>Payment_Behaviour</td>\n",
       "      <td>1.354553e+03</td>\n",
       "    </tr>\n",
       "    <tr>\n",
       "      <th>13</th>\n",
       "      <td>Credit_Utilization_Ratio</td>\n",
       "      <td>1.704139e+02</td>\n",
       "    </tr>\n",
       "  </tbody>\n",
       "</table>\n",
       "</div>"
      ],
      "text/plain": [
       "                     feature         score\n",
       "0              Annual_Income  1.235340e+08\n",
       "12          Outstanding_Debt  1.387395e+07\n",
       "1      Monthly_Inhand_Salary  7.284386e+06\n",
       "14        Credit_History_Age  5.579887e+05\n",
       "19           Monthly_Balance  3.522240e+05\n",
       "7        Delay_from_due_date  1.816984e+05\n",
       "17   Amount_invested_monthly  1.514549e+05\n",
       "4              Interest_Rate  1.128792e+05\n",
       "10      Num_Credit_Inquiries  4.441064e+04\n",
       "8     Num_of_Delayed_Payment  3.460908e+04\n",
       "16       Total_EMI_per_month  2.656589e+04\n",
       "5                Num_of_Loan  1.977538e+04\n",
       "9       Changed_Credit_Limit  1.960354e+04\n",
       "2          Num_Bank_Accounts  1.888614e+04\n",
       "3            Num_Credit_Card  1.172486e+04\n",
       "15     Payment_of_Min_Amount  8.042585e+03\n",
       "11                Credit_Mix  2.592105e+03\n",
       "6               Type_of_Loan  1.381851e+03\n",
       "18         Payment_Behaviour  1.354553e+03\n",
       "13  Credit_Utilization_Ratio  1.704139e+02"
      ]
     },
     "execution_count": 136,
     "metadata": {},
     "output_type": "execute_result"
    }
   ],
   "source": [
    "feature_rank.nlargest(28,'score')"
   ]
  },
  {
   "cell_type": "code",
   "execution_count": 137,
   "id": "1b931eac",
   "metadata": {},
   "outputs": [
    {
     "name": "stderr",
     "output_type": "stream",
     "text": [
      "C:\\Users\\HP\\anaconda3\\lib\\site-packages\\sklearn\\utils\\validation.py:993: DataConversionWarning: A column-vector y was passed when a 1d array was expected. Please change the shape of y to (n_samples, ), for example using ravel().\n",
      "  y = column_or_1d(y, warn=True)\n"
     ]
    }
   ],
   "source": [
    "from sklearn.feature_selection import mutual_info_classif\n",
    "mutual_info=mutual_info_classif(X,Y)\n"
   ]
  },
  {
   "cell_type": "code",
   "execution_count": 138,
   "id": "3bc7d6fb",
   "metadata": {},
   "outputs": [
    {
     "data": {
      "text/plain": [
       "Annual_Income               0.610760\n",
       "Outstanding_Debt            0.592816\n",
       "Total_EMI_per_month         0.524799\n",
       "Monthly_Inhand_Salary       0.445459\n",
       "Interest_Rate               0.167953\n",
       "Credit_Mix                  0.155120\n",
       "Delay_from_due_date         0.121423\n",
       "Num_Credit_Inquiries        0.113087\n",
       "Num_Credit_Card             0.111736\n",
       "Num_Bank_Accounts           0.102507\n",
       "Payment_of_Min_Amount       0.098449\n",
       "Changed_Credit_Limit        0.095202\n",
       "Num_of_Loan                 0.086021\n",
       "Credit_History_Age          0.082557\n",
       "Num_of_Delayed_Payment      0.081872\n",
       "Monthly_Balance             0.032402\n",
       "Type_of_Loan                0.013741\n",
       "Payment_Behaviour           0.007137\n",
       "Amount_invested_monthly     0.006272\n",
       "Credit_Utilization_Ratio    0.000000\n",
       "dtype: float64"
      ]
     },
     "execution_count": 138,
     "metadata": {},
     "output_type": "execute_result"
    }
   ],
   "source": [
    "model_data=pd.Series(mutual_info,index=X.columns)\n",
    "model_data.sort_values(ascending=False)"
   ]
  },
  {
   "cell_type": "code",
   "execution_count": null,
   "id": "9420e81d",
   "metadata": {},
   "outputs": [],
   "source": []
  }
 ],
 "metadata": {
  "kernelspec": {
   "display_name": "Python 3 (ipykernel)",
   "language": "python",
   "name": "python3"
  },
  "language_info": {
   "codemirror_mode": {
    "name": "ipython",
    "version": 3
   },
   "file_extension": ".py",
   "mimetype": "text/x-python",
   "name": "python",
   "nbconvert_exporter": "python",
   "pygments_lexer": "ipython3",
   "version": "3.9.19"
  }
 },
 "nbformat": 4,
 "nbformat_minor": 5
}
